{
 "cells": [
  {
   "cell_type": "markdown",
   "metadata": {},
   "source": [
    "## Project Description\n",
    "\n",
    "In this Machine Learning Project, you will create your own supervised Machine Learning (ML) model. We will use the full FIFA21 Dataset and we will identify players that are above average.\n",
    "\n",
    "We will use the column \"Overall\" with a treshold of 75 to define players that are 'Valuable'. This will become our target output which we need for a supervised ML model. Because we use the \"Overall\" as our target output, you cannot use \"Overall\" in your features, this will be explained further below.\n",
    "\n",
    "This project will provide a comprehensive overview of your abilities in machine learning, from understanding the problem, choosing the right model, training, and optimizing it."
   ]
  },
  {
   "cell_type": "code",
   "execution_count": 6,
   "metadata": {},
   "outputs": [],
   "source": [
    "# Write any package/module installation that you need\n",
    "# pip install goes here, this helps declutter your output below\n",
    "\n",
    "import numpy as np \n",
    "import pandas as pd\n",
    "\n",
    "from sklearn.preprocessing import StandardScaler\n",
    "from sklearn.linear_model import LogisticRegression\n",
    "from sklearn.model_selection import train_test_split\n",
    "from sklearn.metrics import f1_score\n",
    "from sklearn.metrics import accuracy_score"
   ]
  },
  {
   "cell_type": "markdown",
   "metadata": {},
   "source": [
    "## Load the dataset and clean it\n",
    "\n",
    "In this task, you will prepare and load your dataset. You need to download the full FIFA 21 Dataset from the link here: [Kaggle FIFA Player Stats Database](https://www.kaggle.com/datasets/bryanb/fifa-player-stats-database?resource=download&select=FIFA21_official_data.csv).\n",
    "\n",
    ">Note: Make sure you download FIFA 21 dataset.\n",
    ">\n",
    ">![FIFA21 Dataset](https://storage.googleapis.com/rg-ai-bootcamp/projects/fifa21_dataset-min.png)\n",
    "\n",
    "After you download the dataset, you will then import the dataset then you will clean the data. For example there may be some empty cell in the dataset which you need to fill. Maybe there are also data that you need to convert to numeric value for analysis. Identify the data that is incomplete and fix them.\n",
    "\n",
    "In the code block below, you can use the comments to guide you on what to do."
   ]
  },
  {
   "cell_type": "code",
   "execution_count": null,
   "metadata": {},
   "outputs": [],
   "source": [
    "# Write your preprocessing and data cleaning here\n",
    "\n",
    "# Load your data\n",
    "fifa21_df = pd.read_csv(\"FIFA21_official_data.csv\")\n",
    "\n",
    "# Check your data for empty cell\n",
    "nullAmount = fifa21_df.isnull().sum().sort_values(ascending=False).to_string()\n",
    "\n",
    "# Fill the empty cell with data or drop the column\n",
    "fifa21_df = fifa21_df.drop(['Loaned From'], axis=1)\n",
    "fifa21_df = fifa21_df.dropna(subset=['Age', 'Potential', 'Special', 'International Reputation', 'Best Overall Rating'])\n",
    "\n",
    "print(fifa21_df.to_string())\n"
   ]
  },
  {
   "cell_type": "markdown",
   "metadata": {},
   "source": [
    "## Build and Train your model\n",
    "\n",
    "In this task you will analyze the data and select the features that is best at predicting if the Player is a 'Valuable' player or not.\n",
    "\n",
    "The first step is to **define the target output** that you will use for training. Here's an example of how to create a target output:\n",
    "- `df['OK Player'] = df['Overall'].apply(lambda x: 1 if x >= 50 else 0) #Define the OK Player using treshold of 50.`\n",
    "\n",
    "Next you will **identify the features** that will best predict a 'Valuable' player. You are required to **submit the features you selected** in the Submission section below.\n",
    "\n",
    "> **Because we use the \"Overall\" as our target output, the use of \"Overall\" in your features is not allowed. You will automatically get 0 if you submit \"Overall\" in your features. The use of \"Best Overall Rating\" is also not allowed and will automatically get you a score of 0.**\n",
    "\n",
    "Once you identify the features, you will then **split the data** into Training set and Testing/Validation set.\n",
    "\n",
    "Depending on the features you selected, **you may need to scale the features**.\n",
    "\n",
    "Now you will **train your model, choose the algorithm** you are going to use carefully to make sure it gives the best result.\n",
    "\n",
    "Once you have trained your model, you need to test the model effectiveness. **Make predictions against your Testing/Validation set** and evaluate your model. You are required to **submit the Accuracy Score and F1 score** in the Submission section below.\n",
    "\n",
    "In the code block below, you can use the comments to guide you on what to do.\n",
    "\n",
    "We have also provided 3 variables that you must use in your code, `ml_features`, `ml_accuracy` and `ml_f1_score`. You can move the variables around your code, assign values to them, but you cannot delete them."
   ]
  },
  {
   "cell_type": "code",
   "execution_count": 14,
   "metadata": {},
   "outputs": [
    {
     "name": "stdout",
     "output_type": "stream",
     "text": [
      "ml_accuracy: 0.9815897136177674 \n",
      " ml_f1_score: 0.9312977099236641\n"
     ]
    }
   ],
   "source": [
    "# Write your code here\n",
    "\n",
    "# Define the target output (Good >= 75)\n",
    "fifa21_df['OK Player'] = fifa21_df['Overall'].apply(lambda x: 1 if x >= 75 else 0)\n",
    "targetOutput = fifa21_df['OK Player']\n",
    "\n",
    "# Identify the features you will use in your model\n",
    "ml_features = fifa21_df[['Age', 'Potential', 'Special', 'International Reputation', 'Best Overall Rating']]\n",
    "\n",
    "# Split data into training set and test set\n",
    "X_train, X_test, y_train, y_test = train_test_split(ml_features, targetOutput, test_size=0.2, train_size=0.8, shuffle=True)\n",
    "\n",
    "# Scale the features (if needed, optional)\n",
    "scaler = StandardScaler()\n",
    "\n",
    "X_train = scaler.fit_transform(X_train)\n",
    "X_test = scaler.fit_transform(X_test)\n",
    "\n",
    "# Train the model\n",
    "training_model = LogisticRegression()\n",
    "training_model.fit(X_train, y_train)\n",
    "\n",
    "# Make predictions using the test set\n",
    "doPred = training_model.predict(X_test)\n",
    "\n",
    "# Evaluate the model\n",
    "ml_accuracy = accuracy_score(y_test, doPred)\n",
    "ml_f1_score = f1_score(y_test, doPred)\n",
    "\n",
    "print(f\"ml_accuracy: {ml_accuracy} \\n ml_f1_score: {ml_f1_score}\")\n",
    "\n"
   ]
  }
 ],
 "metadata": {
  "kernelspec": {
   "display_name": "sklearn-env",
   "language": "python",
   "name": "python3"
  },
  "language_info": {
   "codemirror_mode": {
    "name": "ipython",
    "version": 3
   },
   "file_extension": ".py",
   "mimetype": "text/x-python",
   "name": "python",
   "nbconvert_exporter": "python",
   "pygments_lexer": "ipython3",
   "version": "3.13.2"
  }
 },
 "nbformat": 4,
 "nbformat_minor": 2
}
