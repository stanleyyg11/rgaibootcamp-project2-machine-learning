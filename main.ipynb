{
 "cells": [
  {
   "cell_type": "markdown",
   "metadata": {},
   "source": [
    "## Project Description\n",
    "\n",
    "In this Machine Learning Project, you will create your own supervised Machine Learning (ML) model. We will use the full FIFA21 Dataset and we will identify players that are above average.\n",
    "\n",
    "We will use the column \"Overall\" with a treshold of 75 to define players that are 'Valuable'. This will become our target output which we need for a supervised ML model. Because we use the \"Overall\" as our target output, you cannot use \"Overall\" in your features, this will be explained further below.\n",
    "\n",
    "This project will provide a comprehensive overview of your abilities in machine learning, from understanding the problem, choosing the right model, training, and optimizing it."
   ]
  },
  {
   "cell_type": "code",
   "execution_count": null,
   "metadata": {
    "vscode": {
     "languageId": "plaintext"
    }
   },
   "outputs": [],
   "source": [
    "# Write any package/module installation that you need\n",
    "# pip install goes here, this helps declutter your output below\n",
    "\n"
   ]
  },
  {
   "cell_type": "markdown",
   "metadata": {},
   "source": [
    "## Load the dataset and clean it\n",
    "\n",
    "In this task, you will prepare and load your dataset. You need to download the full FIFA 21 Dataset from the link here: [Kaggle FIFA Player Stats Database](https://www.kaggle.com/datasets/bryanb/fifa-player-stats-database?resource=download&select=FIFA21_official_data.csv).\n",
    "\n",
    ">Note: Make sure you download FIFA 21 dataset.\n",
    ">\n",
    ">![FIFA21 Dataset](https://storage.googleapis.com/rg-ai-bootcamp/projects/fifa21_dataset-min.png)\n",
    "\n",
    "After you download the dataset, you will then import the dataset then you will clean the data. For example there may be some empty cell in the dataset which you need to fill. Maybe there are also data that you need to convert to numeric value for analysis. Identify the data that is incomplete and fix them.\n",
    "\n",
    "In the code block below, you can use the comments to guide you on what to do."
   ]
  },
  {
   "cell_type": "code",
   "execution_count": null,
   "metadata": {
    "vscode": {
     "languageId": "plaintext"
    }
   },
   "outputs": [],
   "source": [
    "# Write your preprocessing and data cleaning here\n",
    "\n",
    "# Load your data\n",
    "\n",
    "\n",
    "# Check your data for empty cell\n",
    "\n",
    "\n",
    "# Fill the empty cell with data or drop the column\n",
    "\n"
   ]
  },
  {
   "cell_type": "markdown",
   "metadata": {},
   "source": [
    "## Build and Train your model\n",
    "\n",
    "In this task you will analyze the data and select the features that is best at predicting if the Player is a 'Valuable' player or not.\n",
    "\n",
    "The first step is to **define the target output** that you will use for training. Here's an example of how to create a target output:\n",
    "- `df['OK Player'] = df['Overall'].apply(lambda x: 1 if x >= 50 else 0) #Define the OK Player using treshold of 50.`\n",
    "\n",
    "Next you will **identify the features** that will best predict a 'Valuable' player. You are required to **submit the features you selected** in the Submission section below.\n",
    "\n",
    "> **Because we use the \"Overall\" as our target output, the use of \"Overall\" in your features is not allowed. You will automatically get 0 if you submit \"Overall\" in your features. The use of \"Best Overall Rating\" is also not allowed and will automatically get you a score of 0.**\n",
    "\n",
    "Once you identify the features, you will then **split the data** into Training set and Testing/Validation set.\n",
    "\n",
    "Depending on the features you selected, **you may need to scale the features**.\n",
    "\n",
    "Now you will **train your model, choose the algorithm** you are going to use carefully to make sure it gives the best result.\n",
    "\n",
    "Once you have trained your model, you need to test the model effectiveness. **Make predictions against your Testing/Validation set** and evaluate your model. You are required to **submit the Accuracy Score and F1 score** in the Submission section below.\n",
    "\n",
    "In the code block below, you can use the comments to guide you on what to do.\n",
    "\n",
    "We have also provided 3 variables that you must use in your code, `ml_features`, `ml_accuracy` and `ml_f1_score`. You can move the variables around your code, assign values to them, but you cannot delete them."
   ]
  },
  {
   "cell_type": "code",
   "execution_count": null,
   "metadata": {
    "vscode": {
     "languageId": "plaintext"
    }
   },
   "outputs": [],
   "source": [
    "# Write your code here\n",
    "\n",
    "# Define the target output (Good >= 75)\n",
    "\n",
    "\n",
    "# Identify the features you will use in your model\n",
    "ml_features = []\n",
    "\n",
    "# Split data into training set and test set\n",
    "\n",
    "\n",
    "# Scale the features (if needed, optional)\n",
    "\n",
    "\n",
    "# Train the model\n",
    "\n",
    "\n",
    "# Make predictions using the test set\n",
    "\n",
    "\n",
    "# Evaluate the model\n",
    "ml_accuracy = 0\n",
    "ml_f1_score = 0\n",
    "\n"
   ]
  }
 ],
 "metadata": {
  "language_info": {
   "name": "python"
  }
 },
 "nbformat": 4,
 "nbformat_minor": 2
}
